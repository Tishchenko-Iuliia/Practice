{
 "cells": [
  {
   "cell_type": "code",
   "execution_count": 15,
   "id": "effective-billion",
   "metadata": {},
   "outputs": [
    {
     "name": "stdout",
     "output_type": "stream",
     "text": [
      "[[4]\n",
      " [6]]\n",
      "[[16.+5.j]\n",
      " [21.-7.j]]\n",
      "[[-0.3660254]\n",
      " [ 1.3660254]]\n"
     ]
    }
   ],
   "source": [
    "from math import sqrt\n",
    "import numpy as np\n",
    "\n",
    "\n",
    "def lincom(A, x, b):\n",
    "    y = np.dot(A, x)\n",
    "    y += b\n",
    "    return y\n",
    "\n",
    "A = np.array([[1, 0], [0, 1]])\n",
    "x = np.array([[1], [2]])\n",
    "b = np.array([[3], [4]])\n",
    "\n",
    "print(lincom(A, x, b))\n",
    "\n",
    "A = np.array([[5, complex(2, 1)], [complex(2, -1), 7]])\n",
    "x = np.array([[complex(2, 1)], [complex(2, -1)]])\n",
    "b = np.array([[1], [2]], dtype=complex)\n",
    "\n",
    "print(lincom(A, x, b))\n",
    "\n",
    "A = np.array([[0.5, -0.5*sqrt(3)], [0.5*sqrt(3), 0.5]])\n",
    "x = np.array([[1], [1]])\n",
    "b = np.array([[0], [0]])\n",
    "\n",
    "print(lincom(A, x, b))\n"
   ]
  },
  {
   "cell_type": "code",
   "execution_count": null,
   "id": "appropriate-nightlife",
   "metadata": {},
   "outputs": [],
   "source": []
  }
 ],
 "metadata": {
  "kernelspec": {
   "display_name": "Python 3",
   "language": "python",
   "name": "python3"
  },
  "language_info": {
   "codemirror_mode": {
    "name": "ipython",
    "version": 3
   },
   "file_extension": ".py",
   "mimetype": "text/x-python",
   "name": "python",
   "nbconvert_exporter": "python",
   "pygments_lexer": "ipython3",
   "version": "3.9.1"
  }
 },
 "nbformat": 4,
 "nbformat_minor": 5
}
